{
 "cells": [
  {
   "cell_type": "code",
   "execution_count": 2,
   "id": "d5fe98bc",
   "metadata": {},
   "outputs": [],
   "source": [
    "import torch\n",
    "import scipy as sp\n",
    "import numpy as np\n",
    "import matplotlib.pyplot as plt"
   ]
  },
  {
   "cell_type": "code",
   "execution_count": 3,
   "id": "3ed3d0b0",
   "metadata": {},
   "outputs": [],
   "source": [
    "muscle_parameters = {\n",
    "    \"lmin\": 0.24,\n",
    "    \"lmax\": 1.53,\n",
    "    \"fvman\": 1.38,\n",
    "    \"fpmax\": 1.76,\n",
    "    \"fmin\": 0.1,\n",
    "    \"lce_max\": 1.0,\n",
    "    \"peak_force\": 34,\n",
    "    \"eps\": 10e-6,\n",
    "    \"dt\":0.002,\n",
    "    \"num_envs\": 1,\n",
    "    \"num_joints\": 12,\n",
    "    \"device\": \"cuda\",\n",
    "    \"angles\": torch.Tensor([[-1.0472, 1.0472], [-1.0472, 1.0472], [-1.0472, 1.0472], [-1.0472, 1.0472], [-1.5708, 3.4907], [-1.5708, 3.4907], [-0.5236, 4.5379], [-0.5236, 4.5379], [-2.7227, -0.8378], [-2.7227, -0.8378], [-2.7227, -0.8378], [-2.7227, -0.8378]])\n",
    "}"
   ]
  },
  {
   "cell_type": "code",
   "execution_count": 7,
   "id": "c10a5ff8",
   "metadata": {},
   "outputs": [],
   "source": [
    "from __future__ import annotations\n",
    "import torch\n",
    "\n",
    "from scipy.optimize import bisect\n",
    "\n",
    "class MuscleActuator:\n",
    "    def __init__(self, muscle_params, *args, **kwargs):\n",
    "        \n",
    "        self.muscle_params = muscle_params\n",
    "\n",
    "        for key, value in self.muscle_params.items():\n",
    "            setattr(self, key, value)\n",
    "\n",
    "        for key, value in kwargs:\n",
    "            setattr(self, key, value)\n",
    "\n",
    "        self.phi_min = self.angles[:, 0]\n",
    "        \n",
    "        self.phi_max = self.angles[:, 1]\n",
    "\n",
    "        self.activation_tensor = torch.zeros(\n",
    "            (self.num_envs, self.num_joints * 2),\n",
    "            dtype=torch.float32,\n",
    "            device=self.device,\n",
    "            requires_grad=False,\n",
    "        )\n",
    "\n",
    "        self.lce_tensor = torch.zeros(\n",
    "            (self.num_envs, self.num_joints * 2),\n",
    "            dtype=torch.float32,\n",
    "            device=self.device,\n",
    "            requires_grad=False,\n",
    "        )\n",
    "        self.lce_dot_tensor = torch.zeros(\n",
    "            (self.num_envs, self.num_joints * 2),\n",
    "            dtype=torch.float32,\n",
    "            device=self.device,\n",
    "            requires_grad=False,\n",
    "        )\n",
    "        self.force_tensor = torch.zeros(\n",
    "            (self.num_envs, self.num_joints * 2),\n",
    "            dtype=torch.float32,\n",
    "            device=self.device,\n",
    "            requires_grad=False,\n",
    "        )\n",
    "        self.lce_1_tensor = torch.zeros(\n",
    "            (self.num_envs, self.num_joints),\n",
    "            dtype=torch.float32,\n",
    "            device=self.device,\n",
    "            requires_grad=False,\n",
    "        )\n",
    "        self.lce_2_tensor = torch.zeros(\n",
    "            (self.num_envs, self.num_joints),\n",
    "            dtype=torch.float32,\n",
    "            device=self.device,\n",
    "            requires_grad=False,\n",
    "        )\n",
    "        self.moment, self.lce_ref = self._compute_parametrization()\n",
    "\n",
    "    def _FL(self, lce: torch.Tensor) -> torch.Tensor:\n",
    "        \"\"\"\n",
    "        Force length\n",
    "        \"\"\"\n",
    "        length = lce\n",
    "        b1 = self._bump(length, self.lmin, 1, self.lmax)\n",
    "        b2 = self._bump(length, self.lmin, 0.5 * (self.lmin + 0.95), 0.95)\n",
    "        bump_res = b1 + 0.15 * b2\n",
    "        return bump_res\n",
    "    \n",
    "    def _calc_l_min(self, Fmin, tol=10e-7):\n",
    "        def f(l_ce):\n",
    "            return self._FL(torch.tensor([l_ce], device=self.device)) - Fmin\n",
    "        \n",
    "        mid = 1.0\n",
    "        return bisect(lambda x: f(x), self.lmin + 10e-9, mid - 10e-9, xtol=tol)\n",
    "\n",
    "    def _bump(self, length: torch.Tensor, A: float, mid: float, B: float) -> torch.Tensor:\n",
    "        \"\"\"\n",
    "        skewed bump function: quadratic spline\n",
    "        Input:\n",
    "            :length: tensor of muscle lengths [Nenv, Nactuator]\n",
    "            :A: scalar\n",
    "            :mid: scalar\n",
    "            :B: scalar\n",
    "\n",
    "        Returns:\n",
    "            :torch.Tensor: contains FV result [Nenv, Nactuator]\n",
    "        \"\"\"\n",
    "\n",
    "        left = 0.5 * (A + mid)\n",
    "        right = 0.5 * (mid + B)\n",
    "        # Order of assignment needs to be inverse to the if-else-clause case\n",
    "        bump_result = torch.ones(\n",
    "            (self.num_envs, self.num_joints * 2),\n",
    "            dtype=torch.float32,\n",
    "            device=self.device,\n",
    "            requires_grad=False,\n",
    "        )\n",
    "\n",
    "        x = (B - length) / (B - right)\n",
    "        bump_result = 0.5 * x**2\n",
    "\n",
    "        x = (length - mid) / (right - mid)\n",
    "        bump_result = torch.where(length < right, 1 - 0.5 * x**2, bump_result)\n",
    "\n",
    "        x = (mid - length) / (mid - left)\n",
    "        bump_result = torch.where(length < mid, 1 - 0.5 * x**2, bump_result)\n",
    "\n",
    "        x = (length - A) / (left - A)\n",
    "        bump_result = torch.where((length < left) & (length > A), 0.5 * x**2, bump_result)\n",
    "\n",
    "        bump_result = torch.where(\n",
    "            torch.logical_or((length <= A), (length >= B)),\n",
    "            torch.tensor([0], dtype=torch.float32, device=self.device),\n",
    "            bump_result,\n",
    "        )\n",
    "        return bump_result\n",
    "    \n",
    "    def _compute_parametrization(self):\n",
    "        \"\"\"\n",
    "        Find parameters for muscle length computation.\n",
    "        This should really only be done once...\n",
    "\n",
    "        We compute them as one long vector now.\n",
    "        \"\"\"\n",
    "\n",
    "        self.lce_min = self._calc_l_min(self.fmin)\n",
    "        print(self.lce_min)\n",
    "\n",
    "        moment = torch.zeros((self.num_envs, self.num_joints * 2))\n",
    "        moment[:, : int(moment.shape[1] // 2)] = (self.lce_max - self.lce_min) / (self.phi_max - self.phi_min)\n",
    "        moment[:, int(moment.shape[1] // 2) :] = (self.lce_max - self.lce_min) / (self.phi_min - self.phi_max)\n",
    "        lce_ref = torch.zeros((self.num_envs, self.num_joints * 2))\n",
    "        lce_ref[:, : int(lce_ref.shape[1] // 2)] = self.lce_min - moment[:, : int(moment.shape[1] // 2)] * self.phi_min\n",
    "        lce_ref[:, int(lce_ref.shape[1] // 2) :] = self.lce_min - moment[:, int(moment.shape[1] // 2) :] * self.phi_max\n",
    "        return moment, lce_ref"
   ]
  },
  {
   "cell_type": "code",
   "execution_count": 11,
   "id": "141107e4",
   "metadata": {},
   "outputs": [
    {
     "name": "stdout",
     "output_type": "stream",
     "text": [
      "0.3325045470554161\n"
     ]
    }
   ],
   "source": [
    "muscle_parameters['fmin'] = 0.05\n",
    "ma = MuscleActuator(muscle_parameters)\n"
   ]
  },
  {
   "cell_type": "code",
   "execution_count": 6,
   "id": "43d8c9d9",
   "metadata": {},
   "outputs": [],
   "source": [
    "joint_names = ['FL_hip_joint', 'FR_hip_joint', 'RL_hip_joint', 'RR_hip_joint', 'FL_thigh_joint', 'FR_thigh_joint', 'RL_thigh_joint', 'RR_thigh_joint', 'FL_calf_joint', 'FR_calf_joint', 'RL_calf_joint', 'RR_calf_joint']\n",
    "\n",
    "lengths = torch.linspace(muscle_parameters['lmin'], muscle_parameters['lmax'], 10000)\n",
    "forces = [ma._FL(torch.tensor([length], device=muscle_parameters['device'])).cpu().numpy() for length in lengths]\n"
   ]
  },
  {
   "cell_type": "code",
   "execution_count": null,
   "id": "50a11f41",
   "metadata": {},
   "outputs": [],
   "source": []
  },
  {
   "cell_type": "code",
   "execution_count": 10,
   "id": "cac23f58",
   "metadata": {},
   "outputs": [
    {
     "data": {
      "text/plain": [
       "<matplotlib.collections.PathCollection at 0x7f59905ac7c0>"
      ]
     },
     "execution_count": 10,
     "metadata": {},
     "output_type": "execute_result"
    },
    {
     "data": {
      "image/png": "[encoded data removed]",
      "text/plain": [
       "<Figure size 640x480 with 1 Axes>"
      ]
     },
     "metadata": {},
     "output_type": "display_data"
    }
   ],
   "source": [
    "plt.plot(lengths.cpu().numpy(), forces)\n",
    "plt.scatter(x=ma.lce_min, y=muscle_parameters['fmin'], color='red')"
   ]
  }
 ],
 "metadata": {
  "kernelspec": {
   "display_name": "env_isaaclab",
   "language": "python",
   "name": "python3"
  },
  "language_info": {
   "codemirror_mode": {
    "name": "ipython",
    "version": 3
   },
   "file_extension": ".py",
   "mimetype": "text/x-python",
   "name": "python",
   "nbconvert_exporter": "python",
   "pygments_lexer": "ipython3",
   "version": "3.10.17"
  }
 },
 "nbformat": 4,
 "nbformat_minor": 5
}
